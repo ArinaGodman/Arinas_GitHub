{
 "cells": [
  {
   "cell_type": "markdown",
   "id": "4d08dc99",
   "metadata": {},
   "source": [
    "# AdventCalender https://adventofcode.com/\n",
    "\n",
    "## Hi! Here is the first few days of Advent of Code with my solutions!"
   ]
  },
  {
   "cell_type": "markdown",
   "id": "1afdac77",
   "metadata": {},
   "source": [
    "## Day 1\n",
    "\n",
    "#### There is a file of strings. Each string contains numbers as well as text.\n",
    "#### The values that we're intereseted in can be found by combining the first digit and the last digit (in that order) to form a single two-digit number.\n",
    "#### Task: to find a sum of all two-digit numbers from each string"
   ]
  },
  {
   "cell_type": "code",
   "execution_count": 1,
   "id": "5c73245e",
   "metadata": {},
   "outputs": [
    {
     "name": "stdout",
     "output_type": "stream",
     "text": [
      "Sum of two-digit numbers: 55488\n"
     ]
    }
   ],
   "source": [
    "# Reading in file\n",
    "\n",
    "file_path = 'advent_1.txt'\n",
    "\n",
    "with open(file_path, 'r') as file:\n",
    "    lines = file.readlines()\n",
    "\n",
    "list_of_numbers = []\n",
    "\n",
    "if lines:\n",
    "    for line in lines:\n",
    "        # Extracting all digits from the line\n",
    "        numbers = [int(digit) for digit in line if digit.isdigit()]\n",
    "        \n",
    "        # Sorting and converting digits into strings\n",
    "        if len(numbers) > 0:\n",
    "            two_digit_number = int(str(numbers[0]) + str(numbers[-1]))\n",
    "            list_of_numbers.append(two_digit_number)\n",
    "\n",
    "# Calculating the sum of the two-digit numbers\n",
    "sum_of_numbers = sum(list_of_numbers)\n",
    "print(f\"Sum of two-digit numbers: {sum_of_numbers}\")"
   ]
  },
  {
   "cell_type": "markdown",
   "id": "1d42ff92",
   "metadata": {},
   "source": [
    "#### New information: \n",
    "\n",
    "#### Some of the digits are actually spelled out with letters: one, two, three, four, five, six, seven, eight, and nine also count as valid \"digits\""
   ]
  },
  {
   "cell_type": "code",
   "execution_count": 2,
   "id": "a53cdcc8",
   "metadata": {},
   "outputs": [
    {
     "name": "stdout",
     "output_type": "stream",
     "text": [
      "Sum of two-digit numbers: 55488\n"
     ]
    }
   ],
   "source": [
    "# We observe that numbers can overlap each other ex. oneight, twone etc.\n",
    "words_to_replace = {'zero':'z0o','one':'o1e', 'two':'t2o', 'three':'t3e', 'four':'f4r', 'five':'f5e', 'six':'s6x', \n",
    "                    'seven':'s7n', 'eight':'e8t', 'nine':'n9e',}\n",
    "\n",
    "modified_file = []\n",
    "new_list_of_num = []\n",
    "n=[]\n",
    "\n",
    "# Replacing text with numbers\n",
    "for line in lines:\n",
    "    for key, value in words_to_replace.items():\n",
    "        line = line.replace(key,value)\n",
    "    modified_file.append(line)\n",
    "\n",
    "# Finding two-digit numbers using the first and last digits in each line\n",
    "for line in modified_file:\n",
    "    # Extracting all digits from the line\n",
    "    new_numbers = [int(digit) for digit in line if digit.isdigit()]\n",
    "    \n",
    "    # Handling the case where a line has fewer than 2 digits\n",
    "    if len(new_numbers) >= 0:\n",
    "        two_digit_number = int(str(new_numbers[0]) + str(new_numbers[-1]))\n",
    "\n",
    "    new_list_of_num.append(two_digit_number)\n",
    "\n",
    "# Calculating the sum of the two-digit numbers\n",
    "sum_of_numbers_1 = sum(new_list_of_num)\n",
    "print(f\"Sum of two-digit numbers: {sum_of_numbers}\")"
   ]
  },
  {
   "cell_type": "markdown",
   "id": "cc277587",
   "metadata": {},
   "source": [
    "# Day 2\n",
    "\n",
    "### There is a bag with cubes: red, blue and green. During each game we take out a handfull of cubes, write down the number of game and the amount of cubes we got of each color, then we place the cubes back. During each game we do it 1-3 times. All the data we erite down is stored in a txt-file. \n",
    "\n",
    "## Task 1\n",
    "\n",
    "#### Count the sum of game-ids that would be possible if the bag contained : 12 red, 13 green and 14 blue cubes\n",
    "\n",
    "## Task 2\n",
    "\n",
    "#### Find the minimum amount of cubes in the bag so the game would be possible. Multiply the amount of cubes of each color in the bag with each other for each game and sum it.\n"
   ]
  },
  {
   "cell_type": "code",
   "execution_count": 3,
   "id": "f781a159",
   "metadata": {},
   "outputs": [
    {
     "name": "stdout",
     "output_type": "stream",
     "text": [
      "The sum for Task 1:\n",
      "2476\n",
      "\n",
      "The sum for Task 2:\n",
      "54911\n"
     ]
    }
   ],
   "source": [
    "import pandas as pd\n",
    "import re\n",
    "\n",
    "# Initializing conditions and a df to store values\n",
    "cap = {'red': 12, 'green': 13, 'blue': 14}\n",
    "df = pd.DataFrame(columns=[\"_id\", \"blue\", \"red\", \"green\"])\n",
    "\n",
    "# Task 1\n",
    "with open('advent_2.txt', 'r') as file:\n",
    "    for i, game in enumerate(file):\n",
    "        blue = max(map(int, re.findall(r'(\\d+) blue', game)))\n",
    "        red = max(map(int, re.findall(r'(\\d+) red', game)))\n",
    "        green = max(map(int, re.findall(r'(\\d+) green', game)))\n",
    "\n",
    "        # Skipping lines that don't pass the condition\n",
    "        if blue > cap['blue'] or red > cap['red'] or green > cap['green']:\n",
    "            continue\n",
    "\n",
    "        df = pd.concat([df, pd.DataFrame({\"_id\": [i + 1], \"blue\": [blue], \"red\": [red], \"green\": [green]})],\n",
    "                       ignore_index=True)\n",
    "print('The sum for Task 1:')\n",
    "print(df['_id'].sum())\n",
    "\n",
    "# Task 2\n",
    "sum_2 = 0\n",
    "with open('advent_2.txt', 'r') as file:\n",
    "    for i, game in enumerate(file):\n",
    "        blue = max(map(int, re.findall(r'(\\d+) blue', game)))\n",
    "        red = max(map(int, re.findall(r'(\\d+) red', game)))\n",
    "        green = max(map(int, re.findall(r'(\\d+) green', game)))\n",
    "        sum_2 += (blue * red * green)\n",
    "\n",
    "print('\\nThe sum for Task 2:')\n",
    "print(sum_2)"
   ]
  },
  {
   "cell_type": "markdown",
   "id": "18813a2c",
   "metadata": {},
   "source": [
    "# Day 3\n",
    "\n",
    "## Task 1\n",
    "\n",
    "#### There is a file with lines of numbers, symbols and dots. We need to find such numbers that stand next to a symbol (not a dot or other digit). Numbers can stand nest to symbols from right, felt, above and below and even diagonaly. We need to find a sum of such numbers.\n",
    "\n",
    "## Task 2\n",
    "\n",
    "#### In the lines we can find  * symbols. If it's attached to two numbers, we should multiply those two numbers for each * symbol and find it's sum"
   ]
  },
  {
   "cell_type": "code",
   "execution_count": 4,
   "id": "1a1fa75e",
   "metadata": {},
   "outputs": [
    {
     "name": "stdout",
     "output_type": "stream",
     "text": [
      "The sum for Task 1:\n",
      "553581\n",
      "\n",
      "The sum for Task 2:\n",
      "81997870\n"
     ]
    }
   ],
   "source": [
    "with open('advent_3.txt', 'r') as file:\n",
    "    lines = file.readlines()\n",
    "    \n",
    "# Task 1\n",
    "\n",
    "sum1 = 0\n",
    "# Ieration through file\n",
    "for y, l in enumerate(lines):\n",
    "    x = 0\n",
    "    \n",
    "    #Iteration through characters in line and searching for numbers \n",
    "    while x < len(l):\n",
    "        numlen = 0\n",
    "        if lines[y][x].isdigit():\n",
    "            while x < len(l) and lines[y][x].isdigit():\n",
    "                numlen += 1\n",
    "                x += 1\n",
    "            num = int(l[x - numlen : x])\n",
    "            \n",
    "            # if we find a number we chech if there is a symbol(not dot or another digit) standing close to it\n",
    "            # and taking a sum of such numbers\n",
    "            if any(\n",
    "                c not in \"1234567890.\"\n",
    "                for i in range(max(0, y - 1), min(len(lines), y + 2))\n",
    "                for c in lines[i][max(0, x - numlen - 1) : min(len(l), x + 1)]\n",
    "            ):\n",
    "                sum1 += num\n",
    "        else:\n",
    "            x += 1\n",
    "print('The sum for Task 1:')\n",
    "print(sum1)\n",
    "\n",
    "# Task 2\n",
    "with open(\"advent_3.txt\") as f:\n",
    "    lines = f.read().splitlines()\n",
    "\n",
    "\n",
    "def get_num(l, x):\n",
    "    \"\"\"\n",
    "    Extracts the numeric sequence containing the character at index `x` in the line `l`.\n",
    "\n",
    "    Parameters:\n",
    "        l (str): The input line.\n",
    "        x (int): The index of the character in the line.\n",
    "\n",
    "    Returns:\n",
    "        int: The integer value of the extracted numeric sequence.\n",
    "    \"\"\" \n",
    "    s = e = x\n",
    "    while s >= 0 and l[s].isdigit():\n",
    "        s -= 1\n",
    "    while e < len(l) and l[e].isdigit():\n",
    "        e += 1\n",
    "    return int(l[s + 1 : e])\n",
    "\n",
    "\n",
    "sum2 = 0\n",
    "\n",
    "# Iterating through strings to find * symbol\n",
    "for y, l in enumerate(lines):\n",
    "    for x, c in enumerate(l):\n",
    "        if c == \"*\":\n",
    "            \n",
    "            # Creating a list of numbers attached to * symbol\n",
    "            s = list(\n",
    "                {\n",
    "                    get_num(lines[i], j)\n",
    "                    for i in range(max(0, y - 1), min(len(lines) + 1, y + 2))\n",
    "                    for j in range(max(0, x - 1), min(len(l) + 1, x + 2))\n",
    "                    if lines[i][j].isdigit()\n",
    "                }\n",
    "            )\n",
    "            # If two numbers - multiply and sum \n",
    "            if len(s) == 2:\n",
    "                sum2 += s[0] * s[1]\n",
    "\n",
    "print('\\nThe sum for Task 2:')\n",
    "print(sum2)\n"
   ]
  },
  {
   "cell_type": "markdown",
   "id": "91bc7ba0",
   "metadata": {},
   "source": [
    "# Day 4\n",
    "\n",
    "## Task 1\n",
    "\n",
    "#### There is a file with scratchcards. Each row in the file represents one card with first numbers that we got and after \"|\" numbers that were \"winning\". One match gives us one point and every other match gives us two point: 2 matches give us 3 points, 3 -- 5 points and so on. How many points have we after we look  through all the cards?\n",
    "\n",
    "## Task 2\n",
    "\n",
    "#### There's no such thing as \"points\". Instead, scratchcards only cause us to win more scratchcards equal to the number of winning numbers we have. For example: if we on card 5 have 4 matching numbers we get a copy of card number 6, 7, 8, 9. How many scratchcards do we have in total when we are done scraping?"
   ]
  },
  {
   "cell_type": "code",
   "execution_count": 5,
   "id": "64533017",
   "metadata": {},
   "outputs": [
    {
     "name": "stdout",
     "output_type": "stream",
     "text": [
      "The amount of points for Task 1: 22193\n",
      "\n",
      "The amount of cards for Task 2: 5625994\n"
     ]
    }
   ],
   "source": [
    "# Read the text file\n",
    "with open('advent_4.txt', 'r') as file:\n",
    "    lines = file.readlines()\n",
    "\n",
    "def part1():\n",
    "    total = 0\n",
    "    for line in lines:\n",
    "        x, y = map(str.split, line.split('|'))\n",
    "        matches = set(x) & set(y)\n",
    "        total += 2 ** (len(matches) - 1) if matches else 0\n",
    "    return total\n",
    "\n",
    "def part2():\n",
    "    cards = [1] * len(lines)\n",
    "    for i, line in enumerate(lines):\n",
    "        x, y = map(str.split, line.split('|'))\n",
    "        n = len(set(x) & set(y))\n",
    "        for j in range(i + 1, min(i + 1 + n, len(lines))):\n",
    "            cards[j] += cards[i]\n",
    "    return sum(cards)\n",
    "\n",
    "print(f'The amount of points for Task 1: {part1()}\\n')\n",
    "print(f'The amount of cards for Task 2: {part2()}')"
   ]
  },
  {
   "cell_type": "markdown",
   "id": "149749a9",
   "metadata": {},
   "source": [
    "## That was the last task to present!"
   ]
  }
 ],
 "metadata": {
  "kernelspec": {
   "display_name": "Python 3 (ipykernel)",
   "language": "python",
   "name": "python3"
  },
  "language_info": {
   "codemirror_mode": {
    "name": "ipython",
    "version": 3
   },
   "file_extension": ".py",
   "mimetype": "text/x-python",
   "name": "python",
   "nbconvert_exporter": "python",
   "pygments_lexer": "ipython3",
   "version": "3.10.9"
  }
 },
 "nbformat": 4,
 "nbformat_minor": 5
}
