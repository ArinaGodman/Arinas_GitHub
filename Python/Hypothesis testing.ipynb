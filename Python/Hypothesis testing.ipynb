{
 "cells": [
  {
   "cell_type": "markdown",
   "id": "3ed0edb2-696b-49ab-9db0-681defcce695",
   "metadata": {},
   "source": [
    "You're working as a sports journalist at a major online sports media company, specializing in soccer analysis and reporting. You've been watching both men's and women's international soccer matches for a number of years, and your gut instinct tells you that more goals are scored in women's international football matches than men's. This would make an interesting investigative article that your subscribers are bound to love, but you'll need to perform a valid statistical hypothesis test to be sure!\n",
    "\n",
    "While scoping this project, you acknowledge that the sport has changed a lot over the years, and performances likely vary a lot depending on the tournament, so you decide to limit the data used in the analysis to only official `FIFA World Cup` matches (not including qualifiers) since `2002-01-01`.\n",
    "\n",
    "You create two datasets containing the results of every official men's and women's international football match since the 19th century, which you scraped from a reliable online source. This data is stored in two CSV files: `women_results.csv` and `men_results.csv`.\n",
    "\n",
    "The question is:\n",
    "\n",
    "> Are more goals scored in women's international soccer matches than men's?\n",
    "\n",
    "You assume a **10% significance level**, and use the following null and alternative hypotheses:\n",
    "\n",
    "$H_0$ : The mean number of goals scored in women's international soccer matches is the same as men's.\n",
    "\n",
    "$H_A$ : The mean number of goals scored in women's international soccer matches is greater than men's."
   ]
  },
  {
   "cell_type": "code",
   "execution_count": 100,
   "id": "84a3c4c8-534b-4d1a-9919-17e05208b2ca",
   "metadata": {
    "executionCancelledAt": null,
    "executionTime": 12,
    "lastExecutedAt": 1705241961926,
    "lastScheduledRunId": null,
    "lastSuccessfullyExecutedCode": "import pandas as pd\nimport numpy as np\nimport matplotlib.pyplot as plt\nimport seaborn as sns\nfrom scipy import stats"
   },
   "outputs": [],
   "source": [
    "import pandas as pd\n",
    "import numpy as np\n",
    "import matplotlib.pyplot as plt\n",
    "import seaborn as sns\n",
    "from scipy import stats"
   ]
  },
  {
   "cell_type": "code",
   "execution_count": 101,
   "id": "e880bf6b-d4d0-4153-9d53-a40ebaa42ddf",
   "metadata": {
    "executionCancelledAt": null,
    "executionTime": 70,
    "lastExecutedAt": 1705241961996,
    "lastScheduledRunId": null,
    "lastSuccessfullyExecutedCode": "men_results = pd.read_csv('men_results.csv')\nmen_results.info()",
    "outputsMetadata": {
     "0": {
      "height": 297,
      "type": "stream"
     }
    }
   },
   "outputs": [
    {
     "name": "stdout",
     "output_type": "stream",
     "text": [
      "<class 'pandas.core.frame.DataFrame'>\n",
      "RangeIndex: 44353 entries, 0 to 44352\n",
      "Data columns (total 7 columns):\n",
      " #   Column      Non-Null Count  Dtype \n",
      "---  ------      --------------  ----- \n",
      " 0   Unnamed: 0  44353 non-null  int64 \n",
      " 1   date        44353 non-null  object\n",
      " 2   home_team   44353 non-null  object\n",
      " 3   away_team   44353 non-null  object\n",
      " 4   home_score  44353 non-null  int64 \n",
      " 5   away_score  44353 non-null  int64 \n",
      " 6   tournament  44353 non-null  object\n",
      "dtypes: int64(3), object(4)\n",
      "memory usage: 2.4+ MB\n"
     ]
    }
   ],
   "source": [
    "men_results = pd.read_csv('men_results.csv')\n",
    "men_results.info()"
   ]
  },
  {
   "cell_type": "code",
   "execution_count": 102,
   "id": "bbe2e312-a2fb-4bdc-9ebf-51de7dd72a77",
   "metadata": {
    "executionCancelledAt": null,
    "executionTime": 45,
    "lastExecutedAt": 1705241962041,
    "lastScheduledRunId": null,
    "lastSuccessfullyExecutedCode": "men_results['date'] = pd.to_datetime(men_results['date']).dt.date"
   },
   "outputs": [],
   "source": [
    "men_results['date'] = pd.to_datetime(men_results['date']).dt.date"
   ]
  },
  {
   "cell_type": "code",
   "execution_count": 103,
   "id": "b10d5704-579d-463a-9d0c-e219b705dc9e",
   "metadata": {
    "executionCancelledAt": null,
    "executionTime": 48,
    "lastExecutedAt": 1705241962090,
    "lastScheduledRunId": null,
    "lastSuccessfullyExecutedCode": "women_results = pd.read_csv('women_results.csv')\nwomen_results.info()",
    "outputsMetadata": {
     "0": {
      "height": 297,
      "type": "stream"
     }
    }
   },
   "outputs": [
    {
     "name": "stdout",
     "output_type": "stream",
     "text": [
      "<class 'pandas.core.frame.DataFrame'>\n",
      "RangeIndex: 4884 entries, 0 to 4883\n",
      "Data columns (total 7 columns):\n",
      " #   Column      Non-Null Count  Dtype \n",
      "---  ------      --------------  ----- \n",
      " 0   Unnamed: 0  4884 non-null   int64 \n",
      " 1   date        4884 non-null   object\n",
      " 2   home_team   4884 non-null   object\n",
      " 3   away_team   4884 non-null   object\n",
      " 4   home_score  4884 non-null   int64 \n",
      " 5   away_score  4884 non-null   int64 \n",
      " 6   tournament  4884 non-null   object\n",
      "dtypes: int64(3), object(4)\n",
      "memory usage: 267.2+ KB\n"
     ]
    }
   ],
   "source": [
    "women_results = pd.read_csv('women_results.csv')\n",
    "women_results.info()"
   ]
  },
  {
   "cell_type": "code",
   "execution_count": 104,
   "id": "e645b850-7fee-44c7-819e-970b3ebc0a6b",
   "metadata": {
    "executionCancelledAt": null,
    "executionTime": 47,
    "lastExecutedAt": 1705241962137,
    "lastScheduledRunId": null,
    "lastSuccessfullyExecutedCode": "women_results['date'] = pd.to_datetime(women_results['date']).dt.date",
    "outputsMetadata": {
     "0": {
      "height": 297,
      "type": "stream"
     }
    }
   },
   "outputs": [],
   "source": [
    "women_results['date'] = pd.to_datetime(women_results['date']).dt.date"
   ]
  },
  {
   "cell_type": "markdown",
   "id": "ea3625d3-c268-4ae0-9614-5903a465a91a",
   "metadata": {},
   "source": [
    "For the analysis we will use only FIFA World CUP matches cince [2002-01-01]()"
   ]
  },
  {
   "cell_type": "code",
   "execution_count": 105,
   "id": "f474c525-0e48-4a88-91dd-2be5d24c75be",
   "metadata": {
    "executionCancelledAt": null,
    "executionTime": 51,
    "lastExecutedAt": 1705241962189,
    "lastScheduledRunId": null,
    "lastSuccessfullyExecutedCode": "from datetime import datetime\n\nmen_results_fifa = men_results[(men_results['tournament'] == 'FIFA World Cup')&(men_results['date']>=datetime.strptime('2002-01-01', '%Y-%m-%d').date())]\nwomen_results_fifa = women_results[(women_results['tournament'] == 'FIFA World Cup')&(women_results['date']>=datetime.strptime('2002-01-01', '%Y-%m-%d').date())]\n\nmen_results_fifa ['total_goals'] = men_results_fifa['home_score'] + men_results_fifa['away_score']\n\nwomen_results_fifa ['total_goals'] = women_results_fifa['home_score'] + women_results_fifa['away_score']"
   },
   "outputs": [],
   "source": [
    "from datetime import datetime\n",
    "\n",
    "men_results_fifa = men_results[(men_results['tournament'] == 'FIFA World Cup')&(men_results['date']>=datetime.strptime('2002-01-01', '%Y-%m-%d').date())]\n",
    "women_results_fifa = women_results[(women_results['tournament'] == 'FIFA World Cup')&(women_results['date']>=datetime.strptime('2002-01-01', '%Y-%m-%d').date())]\n",
    "\n",
    "men_results_fifa ['total_goals'] = men_results_fifa['home_score'] + men_results_fifa['away_score']\n",
    "\n",
    "women_results_fifa ['total_goals'] = women_results_fifa['home_score'] + women_results_fifa['away_score']"
   ]
  },
  {
   "cell_type": "markdown",
   "id": "300ecd3b-bb05-4654-b3d5-cac417764ee0",
   "metadata": {},
   "source": [
    "In order to choose which test to perform we need to check two underlying assumptios: \n",
    "* sample sizes are big enough\n",
    "* data comes from normal distribution"
   ]
  },
  {
   "cell_type": "code",
   "execution_count": 106,
   "id": "2e0a29e9-fa9d-4c43-b9f6-f32f4264736e",
   "metadata": {
    "executionCancelledAt": null,
    "executionTime": 48,
    "lastExecutedAt": 1705241962238,
    "lastScheduledRunId": null,
    "lastSuccessfullyExecutedCode": "print(len(men_results_fifa))\nprint(len(women_results_fifa))",
    "outputsMetadata": {
     "0": {
      "height": 57,
      "type": "stream"
     }
    }
   },
   "outputs": [
    {
     "name": "stdout",
     "output_type": "stream",
     "text": [
      "384\n",
      "200\n"
     ]
    }
   ],
   "source": [
    "print(len(men_results_fifa))\n",
    "print(len(women_results_fifa))"
   ]
  },
  {
   "cell_type": "code",
   "execution_count": 107,
   "id": "1658b458-fc63-4934-a0e5-703122637cf7",
   "metadata": {
    "executionCancelledAt": null,
    "executionTime": 191,
    "lastExecutedAt": 1705241962429,
    "lastScheduledRunId": null,
    "lastSuccessfullyExecutedCode": "sns.histplot(data=men_results_fifa, x='total_goals')\nplt.xlabel('Total Goals')\nplt.ylabel('Frequency')\nplt.title('Distribution of Total Goals in FIFA World Cup Matches (Men)')"
   },
   "outputs": [
    {
     "data": {
      "text/plain": [
       "Text(0.5, 1.0, 'Distribution of Total Goals in FIFA World Cup Matches (Men)')"
      ]
     },
     "execution_count": 107,
     "metadata": {},
     "output_type": "execute_result"
    },
    {
     "data": {
      "image/png": "[encoded data removed]",
      "text/plain": [
       "<Figure size 640x480 with 1 Axes>"
      ]
     },
     "metadata": {},
     "output_type": "display_data"
    }
   ],
   "source": [
    "sns.histplot(data=men_results_fifa, x='total_goals')\n",
    "plt.xlabel('Total Goals')\n",
    "plt.ylabel('Frequency')\n",
    "plt.title('Distribution of Total Goals in FIFA World Cup Matches (Men)')"
   ]
  },
  {
   "cell_type": "code",
   "execution_count": 108,
   "id": "364fc674-c5f0-4a2d-b961-6677b16a6b9c",
   "metadata": {
    "executionCancelledAt": null,
    "executionTime": 185,
    "lastExecutedAt": 1705241962614,
    "lastScheduledRunId": null,
    "lastSuccessfullyExecutedCode": "sns.histplot(data=women_results_fifa, x='total_goals')\nplt.xlabel('Total Goals')\nplt.ylabel('Frequency')\nplt.title('Distribution of Total Goals in FIFA World Cup Matches(Women)')"
   },
   "outputs": [
    {
     "data": {
      "text/plain": [
       "Text(0.5, 1.0, 'Distribution of Total Goals in FIFA World Cup Matches(Women)')"
      ]
     },
     "execution_count": 108,
     "metadata": {},
     "output_type": "execute_result"
    },
    {
     "data": {
      "image/png": "[encoded data removed]",
      "text/plain": [
       "<Figure size 640x480 with 1 Axes>"
      ]
     },
     "metadata": {},
     "output_type": "display_data"
    }
   ],
   "source": [
    "sns.histplot(data=women_results_fifa, x='total_goals')\n",
    "plt.xlabel('Total Goals')\n",
    "plt.ylabel('Frequency')\n",
    "plt.title('Distribution of Total Goals in FIFA World Cup Matches(Women)')"
   ]
  },
  {
   "cell_type": "markdown",
   "id": "fb1e2bf9-6263-4a23-809b-9403c5d5955d",
   "metadata": {},
   "source": [
    "Data doesn't look normaly distributed. But in order to be sure we can perform Shapiro-Wilk test that tests the null hypothesis that the data was drawn from a normal distribution.\n",
    "\n",
    "Significance level - 5%.\n",
    "\n",
    "P-value is under 5% in both cases => We reject the null-hypothsis and the data most likely wasn't drawn from normal distribution. "
   ]
  },
  {
   "cell_type": "code",
   "execution_count": 109,
   "id": "7f1d8e2f-46e7-4b9e-a4a2-0b20d937093b",
   "metadata": {
    "executionCancelledAt": null,
    "executionTime": 52,
    "lastExecutedAt": 1705241962666,
    "lastScheduledRunId": null,
    "lastSuccessfullyExecutedCode": "alpha = 0.05\nprint('Men:')\nprint(stats.shapiro(men_results_fifa['total_goals']))\nprint('\\n Women:')\nprint(stats.shapiro(women_results_fifa['total_goals']))",
    "outputsMetadata": {
     "0": {
      "height": 117,
      "type": "stream"
     }
    }
   },
   "outputs": [
    {
     "name": "stdout",
     "output_type": "stream",
     "text": [
      "Men:\n",
      "ShapiroResult(statistic=0.9266489744186401, pvalue=8.894154401688226e-13)\n",
      "\n",
      " Women:\n",
      "ShapiroResult(statistic=0.8491013050079346, pvalue=3.8905201759850683e-13)\n"
     ]
    }
   ],
   "source": [
    "alpha = 0.05\n",
    "print('Men:')\n",
    "print(stats.shapiro(men_results_fifa['total_goals']))\n",
    "print('\\n Women:')\n",
    "print(stats.shapiro(women_results_fifa['total_goals']))"
   ]
  },
  {
   "cell_type": "markdown",
   "id": "e27314dc-29bc-408c-a461-d57c44c38ce1",
   "metadata": {},
   "source": [
    "Because the sample data unlikely to come from normal distribution non-parametric tests are going to be more suitable in this situation. \n",
    "\n",
    "To performe the hypothesis testing on two unpaired samples I'm going to use a Wilcoxon–Mann–Whitney test from _pingouin-package_"
   ]
  },
  {
   "cell_type": "code",
   "execution_count": 110,
   "id": "dbcd7fc5-b7a3-4576-ba9a-0d5c9866d209",
   "metadata": {
    "executionCancelledAt": null,
    "executionTime": 52,
    "lastExecutedAt": 1705241962718,
    "lastScheduledRunId": null,
    "lastSuccessfullyExecutedCode": "import pingouin\n\nalpha = 0.1\n\n#Data for MWU-test must be pivoted\nwomen_df = pd.DataFrame({'total_goals': women_results_fifa['total_goals'], 'gender': 'Women'})\nmen_df = pd.DataFrame({'total_goals': men_results_fifa['total_goals'], 'gender': 'Men'})\n\ncombined_df = pd.concat([women_df, men_df], ignore_index=True)\n\npivoted_df = combined_df.pivot(columns='gender', values='total_goals')\n\ntest_results = pingouin.mwu(x=pivoted_df['Women'], y=pivoted_df['Men'], alternative='greater')\n\nprint(test_results)",
    "outputsMetadata": {
     "0": {
      "height": 57,
      "type": "stream"
     }
    }
   },
   "outputs": [
    {
     "name": "stdout",
     "output_type": "stream",
     "text": [
      "       U-val alternative     p-val       RBC      CLES\n",
      "MWU  43273.0     greater  0.005107 -0.126901  0.563451\n"
     ]
    }
   ],
   "source": [
    "import pingouin\n",
    "\n",
    "alpha = 0.1\n",
    "\n",
    "#Data for MWU-test must be pivoted\n",
    "women_df = pd.DataFrame({'total_goals': women_results_fifa['total_goals'], 'gender': 'Women'})\n",
    "men_df = pd.DataFrame({'total_goals': men_results_fifa['total_goals'], 'gender': 'Men'})\n",
    "\n",
    "combined_df = pd.concat([women_df, men_df], ignore_index=True)\n",
    "\n",
    "pivoted_df = combined_df.pivot(columns='gender', values='total_goals')\n",
    "\n",
    "test_results = pingouin.mwu(x=pivoted_df['Women'], y=pivoted_df['Men'], alternative='greater')\n",
    "\n",
    "print(test_results)"
   ]
  },
  {
   "cell_type": "markdown",
   "id": "e02a5ff7-7fae-483a-9106-95270840ba76",
   "metadata": {},
   "source": [
    "P-value is under our set significance level and therefore we reject the null hypothesis and can say that thre is a statistical evidence of that the mean number of goals scored in women's international soccer matches is greater than men's."
   ]
  },
  {
   "cell_type": "code",
   "execution_count": null,
   "id": "4fea6301",
   "metadata": {},
   "outputs": [],
   "source": []
  }
 ],
 "metadata": {
  "colab": {
   "name": "Welcome to DataCamp Workspaces.ipynb",
   "provenance": []
  },
  "kernelspec": {
   "display_name": "Python 3 (ipykernel)",
   "language": "python",
   "name": "python3"
  },
  "language_info": {
   "codemirror_mode": {
    "name": "ipython",
    "version": 3
   },
   "file_extension": ".py",
   "mimetype": "text/x-python",
   "name": "python",
   "nbconvert_exporter": "python",
   "pygments_lexer": "ipython3",
   "version": "3.10.9"
  }
 },
 "nbformat": 4,
 "nbformat_minor": 5
}
